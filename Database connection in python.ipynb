{
 "cells": [
  {
   "cell_type": "code",
   "execution_count": 1,
   "metadata": {},
   "outputs": [],
   "source": [
    "import mysql.connector\n",
    "# We imported mysql. connector to check connectivity with database."
   ]
  },
  {
   "cell_type": "markdown",
   "metadata": {},
   "source": [
    "## This is how  a new database can be created"
   ]
  },
  {
   "cell_type": "code",
   "execution_count": null,
   "metadata": {},
   "outputs": [],
   "source": [
    "import mysql.connector\n",
    "\n",
    "mydb = mysql.connector.connect(\n",
    "  host=\"localhost\",\n",
    "  user=\"root\",\n",
    "  passwd=\"Server@123\"\n",
    ")\n",
    "\n",
    "print(mydb) \n",
    "\n",
    "mycursor=mydb.cursor()\n",
    "mycursor.execute(\"CREATE DATABASE 12feb\") # \"CREATE DATABASE\" syntax  followed by name of databse is 12feb."
   ]
  },
  {
   "cell_type": "markdown",
   "metadata": {},
   "source": [
    "## This is how an existing databases can be viewed"
   ]
  },
  {
   "cell_type": "code",
   "execution_count": null,
   "metadata": {},
   "outputs": [],
   "source": [
    "\n",
    "mydb = mysql.connector.connect(\n",
    "  host=\"localhost\",\n",
    "  user=\"root\",\n",
    "  passwd=\"server@123\"\n",
    ")\n",
    "\n",
    "print(mydb) \n",
    "mycursor=mydb.cursor()\n",
    "mycursor.execute(\"SHOW DATABASES\")\n",
    "for i in mycursor:\n",
    "    print(i)"
   ]
  },
  {
   "cell_type": "markdown",
   "metadata": {},
   "source": [
    "## connect with your existing database"
   ]
  },
  {
   "cell_type": "code",
   "execution_count": null,
   "metadata": {},
   "outputs": [],
   "source": [
    "db = mysql.connector.connect # used to connect with database\n",
    "(\n",
    "    host=\"localhost\",\n",
    "    user=\"root\", # PLACE your mysql username here\n",
    "    password=\"Server@123\", # PLACE your  mysql password here \n",
    "    database=\"12feb\" )  # This is name of your database \n",
    "\n",
    "print(\"connection successful\") # When you see this line it means you connected with your database\n",
    "\n",
    "cursor = db.cursor() # Prepare a cursor object using cursor() method\n",
    "\n",
    "\n",
    "#Created a table using sql query\n",
    "sql=\"CREATE TABLE class_view (id int NOT NULL AUTO_INCREMENT,class_nme varchar(20), name varchar(20), roll_no varchar(20), address varchar(20), PRIMARY KEY (id))\"\n",
    "cursor.execute(sql) #we use cursor . execute for execution and calling the sql query\n",
    "\n",
    "db.commit() #Commit() method make changes in datbase\n"
   ]
  },
  {
   "cell_type": "markdown",
   "metadata": {},
   "source": [
    "## Insert data into the table"
   ]
  },
  {
   "cell_type": "code",
   "execution_count": null,
   "metadata": {},
   "outputs": [],
   "source": [
    "\n",
    "db = mysql.connector.connect(\n",
    "    host=\"localhost\", \n",
    "    user=\"root\", \n",
    "    password=\"Server@123\", \n",
    "    database=\"12feb\" )\n",
    "\n",
    "print(\"connection successful\")\n",
    "\n",
    "cursor = db.cursor() # Prepare a cursor object using cursor() method.\n",
    "\n",
    "class_nme = 1 # This is simple variable having value 1\n",
    "class_nme=str(class_nme)\n",
    "name=[] # This is a empty list\n",
    "for num in range(2):  # for loop to store value in list using append() method\n",
    "    x = input(\"Enter name of students: \")\n",
    "    name.append(x)\n",
    "\n",
    "\n",
    "roll_no=[]\n",
    "for num in range(2): # for loop to store value in list using append() method\n",
    "    y = input(\"Enter roll_no :\")\n",
    "    roll_no.append(y)\n",
    "\n",
    "address=[]\n",
    "for num in range(2): # for loop to store value in list using append() method\n",
    "    z = input(\"Enter address :\")\n",
    "    address.append(z)\n",
    "\n",
    "mylengh=len(name) #get lenght of name(list)\n",
    "\n",
    "sql=\"INSERT INTO class_view(class_nme, name, roll_no, address) VALUES (%s, %s, %s, %s)\"\n",
    "\n",
    "# To insert data in sql table, we use \"INSERT INTO\" statement and %s respersent for string\n",
    "for i in range(mylengh): #for loop for geting value one by one from above lists.\n",
    "    val=(class_nme, name[i], roll_no[i], address[i])\n",
    "    cursor.execute(sql,val) #cursor.execute for execution and calling the sql query\n",
    "\n",
    "db.commit()# commit() method make changes in datbase\n",
    "\n",
    "print (cursor.rowcount, \"record inserted.\")\n",
    "cursor.close() # .close() use to close our object\n",
    "db.close()# .close() use to close our server conncetion"
   ]
  }
 ],
 "metadata": {
  "kernelspec": {
   "display_name": "Python 3",
   "language": "python",
   "name": "python3"
  },
  "language_info": {
   "codemirror_mode": {
    "name": "ipython",
    "version": 3
   },
   "file_extension": ".py",
   "mimetype": "text/x-python",
   "name": "python",
   "nbconvert_exporter": "python",
   "pygments_lexer": "ipython3",
   "version": "3.5.2"
  }
 },
 "nbformat": 4,
 "nbformat_minor": 2
}
