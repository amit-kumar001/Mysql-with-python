{
 "cells": [
  {
   "cell_type": "code",
   "execution_count": 1,
   "metadata": {},
   "outputs": [],
   "source": [
    "import mysql.connector\n",
    "# here we imported mysql. connector for checking connectivity"
   ]
  },
  {
   "cell_type": "markdown",
   "metadata": {},
   "source": [
    "## This is how we create a new database"
   ]
  },
  {
   "cell_type": "code",
   "execution_count": null,
   "metadata": {},
   "outputs": [],
   "source": [
    "import mysql.connector\n",
    "\n",
    "mydb = mysql.connector.connect(\n",
    "  host=\"localhost\",\n",
    "  user=\"root\",\n",
    "  passwd=\"Server@123\"\n",
    ")\n",
    "\n",
    "print(mydb) \n",
    "\n",
    "mycursor=mydb.cursor()\n",
    "mycursor.execute(\"CREATE DATABASE 12feb\") #here we use \"CREATE DATABASE\" syntax  followed by name of databse is 12feb , you choose your name."
   ]
  },
  {
   "cell_type": "markdown",
   "metadata": {},
   "source": [
    "## this is how we can view existing databases"
   ]
  },
  {
   "cell_type": "code",
   "execution_count": null,
   "metadata": {},
   "outputs": [],
   "source": [
    "\n",
    "mydb = mysql.connector.connect(\n",
    "  host=\"localhost\",\n",
    "  user=\"root\",\n",
    "  passwd=\"server@123\"\n",
    ")\n",
    "\n",
    "print(mydb) \n",
    "mycursor=mydb.cursor()\n",
    "mycursor.execute(\"SHOW DATABASES\")\n",
    "for i in mycursor:\n",
    "    print(i)"
   ]
  },
  {
   "cell_type": "markdown",
   "metadata": {},
   "source": [
    "## connect with existing database"
   ]
  },
  {
   "cell_type": "code",
   "execution_count": null,
   "metadata": {},
   "outputs": [],
   "source": [
    "db = mysql.connector.connect # this line is used to connect with database\n",
    "(\n",
    "    host=\"localhost\",\n",
    "    user=\"root\", # PLACE your mysql username here\n",
    "    password=\"Server@123\", # PLACE your  mysql password here \n",
    "    database=\"12feb\" )  # this is name of your database if did't create any database than createnew database\n",
    "\n",
    "print(\"connection successful\") #when you see this line it means you connected with your database\n",
    "\n",
    "cursor = db.cursor() # prepare a cursor object using cursor() method\n",
    "\n",
    "\n",
    "# here we created a table using sql query\n",
    "sql=\"CREATE TABLE class_view (id int NOT NULL AUTO_INCREMENT,class_nme varchar(20), name varchar(20), roll_no varchar(20), address varchar(20), PRIMARY KEY (id))\"\n",
    "cursor.execute(sql) #we use cursor . execute for execution and calling the sql query\n",
    "\n",
    "db.commit() # we use commit make changes in datbase\n"
   ]
  },
  {
   "cell_type": "markdown",
   "metadata": {},
   "source": [
    "## insert data in tabel"
   ]
  },
  {
   "cell_type": "code",
   "execution_count": null,
   "metadata": {},
   "outputs": [],
   "source": [
    "\n",
    "db = mysql.connector.connect(\n",
    "    host=\"localhost\", \n",
    "    user=\"root\", \n",
    "    password=\"Server@123\", \n",
    "    database=\"12feb\" )\n",
    "\n",
    "print(\"connection successful\")\n",
    "\n",
    "cursor = db.cursor() # prepare a cursor object using cursor() method\n",
    "\n",
    "class_nme = 1 # this is simple variable having value 1\n",
    "class_nme=str(class_nme)\n",
    "name=[] # this is a empty list\n",
    "for num in range(2):  # we use a for loop to store value in list using append method\n",
    "    x = input(\"Enter name of students: \")\n",
    "    name.append(x)\n",
    "\n",
    "\n",
    "roll_no=[]\n",
    "for num in range(2): # we use a for loop to store value in list using append method\n",
    "    y = input(\"Enter roll_no :\")\n",
    "    roll_no.append(y)\n",
    "\n",
    "address=[]\n",
    "for num in range(2): # we use a for loop to store value in list using append method\n",
    "    z = input(\"Enter address :\")\n",
    "    address.append(z)\n",
    "\n",
    "mylengh=len(name) # here we get lenght of name list\n",
    "\n",
    "sql=\"INSERT INTO class_view(class_nme, name, roll_no, address) VALUES (%s, %s, %s, %s)\"\n",
    "\n",
    "#when we want to insert data in our sql table we use \"INSERT INTO\" statement and %s respersent for string\n",
    "for i in range(mylengh): #we use for loop for geting value one by one from above lists\n",
    "    val=(class_nme, name[i], roll_no[i], address[i])\n",
    "    cursor.execute(sql,val) #we use cursor . execute for execution and calling the sql query\n",
    "\n",
    "db.commit()# we use commit make changes in datbase\n",
    "\n",
    "print (cursor.rowcount, \"record inserted.\")\n",
    "cursor.close() #we call .close function to close our object\n",
    "db.close()#we call .close function to close our conncetion"
   ]
  }
 ],
 "metadata": {
  "kernelspec": {
   "display_name": "Python 3",
   "language": "python",
   "name": "python3"
  },
  "language_info": {
   "codemirror_mode": {
    "name": "ipython",
    "version": 3
   },
   "file_extension": ".py",
   "mimetype": "text/x-python",
   "name": "python",
   "nbconvert_exporter": "python",
   "pygments_lexer": "ipython3",
   "version": "3.5.2"
  }
 },
 "nbformat": 4,
 "nbformat_minor": 2
}
